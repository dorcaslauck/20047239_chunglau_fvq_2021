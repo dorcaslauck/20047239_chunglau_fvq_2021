{
  "nbformat": 4,
  "nbformat_minor": 0,
  "metadata": {
    "colab": {
      "name": "20047239_Lau_fvq_2021_task1.ipynb",
      "provenance": [],
      "collapsed_sections": [],
      "toc_visible": true
    },
    "kernelspec": {
      "name": "python3",
      "display_name": "Python 3"
    }
  },
  "cells": [
    {
      "cell_type": "markdown",
      "metadata": {
        "id": "94c2YV97bjGn"
      },
      "source": [
        "# Find the arithmetic mean "
      ]
    },
    {
      "cell_type": "markdown",
      "metadata": {
        "id": "3grmFgOS4svD"
      },
      "source": [
        "#### Pseudo code\n",
        "```\n",
        "  average is total / the length of data\n",
        "```\n",
        "\n",
        "#### Strength\n",
        "``` \n",
        "  Show all the steps clearly\n",
        "```\n",
        "\n",
        "#### Improvement\n",
        "```\n",
        "  Reduce the size of code\n",
        "```"
      ]
    },
    {
      "cell_type": "code",
      "metadata": {
        "colab": {
          "base_uri": "https://localhost:8080/"
        },
        "id": "mQp8-o0ebVmB",
        "outputId": "268957af-811e-46f4-eaf3-37c51ae25b44"
      },
      "source": [
        "def arithmetic_mean(data_list):\n",
        "  # define initial value of sum\n",
        "  sum = 0\n",
        "  # get the total value in list\n",
        "  for d in data_list:\n",
        "    sum += d\n",
        "  # total / length of list\n",
        "  mean = sum / len(data_list)\n",
        "  # return result\n",
        "  return mean\n",
        "\n",
        "# Alternative approach\n",
        "def arithmetic_mean_improve(data_list):\n",
        "  return sum(data_list) / len(data_list)\n",
        "\n",
        "# Testing\n",
        "data = [1,2,3,4,5,6,7,8,9,10]\n",
        "mean = arithmetic_mean(data)\n",
        "print(mean)"
      ],
      "execution_count": null,
      "outputs": [
        {
          "output_type": "stream",
          "text": [
            "5.5\n"
          ],
          "name": "stdout"
        }
      ]
    },
    {
      "cell_type": "markdown",
      "metadata": {
        "id": "sGYL6c4NhOC0"
      },
      "source": [
        "# Find the standard deviation\n",
        "\n",
        "#### Pseudo code\n",
        "```\n",
        "  sum of (x1 - mean) ^ 2 --> A\n",
        "  A / the length of data --> B\n",
        "  result = Sqrt(B) \n",
        "```\n",
        "\n",
        "#### Stength\n",
        "```\n",
        "  show all the steps clearly\n",
        "```\n",
        "\n",
        "### Improvement \n",
        "```\n",
        "  use math library to calculate the power of\n",
        "```\n"
      ]
    },
    {
      "cell_type": "code",
      "metadata": {
        "colab": {
          "base_uri": "https://localhost:8080/"
        },
        "id": "fiyhqTszhNOO",
        "outputId": "e5dca614-b0ac-4d3b-9d1c-ccdd08578664"
      },
      "source": [
        "from math import sqrt\n",
        "\n",
        "def standard_deviation(data_list):\n",
        "  # get mean of the list\n",
        "  mean = arithmetic_mean_improve(data_list)\n",
        "  sum = 0\n",
        "  for d in data_list:\n",
        "    sum += (d - mean) * (d - mean)\n",
        "  sum /= len(data_list)\n",
        "  return sqrt(sum)\n",
        "\n",
        "def standard_deviation_improve(data_list):\n",
        "  from math import pow\n",
        "  mean = arithmetic_mean_improve(data_list)\n",
        "  sum = 0\n",
        "  for d in data_list:\n",
        "    sum += pow((d - mean), 2)\n",
        "  sum /= len(data_list)\n",
        "  return sqrt(sum)  \n",
        "\n",
        "# Testing\n",
        "data = [1,2,3,4,5,6,7,8,9,10]\n",
        "sd = standard_deviation(data)\n",
        "print(sd)\n",
        "  "
      ],
      "execution_count": null,
      "outputs": [
        {
          "output_type": "stream",
          "text": [
            "2.8722813232690143\n"
          ],
          "name": "stdout"
        }
      ]
    },
    {
      "cell_type": "markdown",
      "metadata": {
        "id": "1dROIR4okBW-"
      },
      "source": [
        "# Find the min/max value\n",
        "\n",
        "####pseudo code\n",
        "```\n",
        "  define a initial value for comparing values\n",
        "```\n",
        "\n",
        "####weakness:\n",
        "```\n",
        "  The initial value can't cater all cases\n",
        "```\n",
        "\n",
        "####improvement:\n",
        "```\n",
        "  sort the data list first and get the first(min) or last(max).\n",
        "```\n"
      ]
    },
    {
      "cell_type": "code",
      "metadata": {
        "colab": {
          "base_uri": "https://localhost:8080/"
        },
        "id": "LAuvkPa_kIrW",
        "outputId": "c656ae5c-3841-4196-ea76-c00b67a1d9b1"
      },
      "source": [
        "\n",
        "\n",
        "def find_min(data_list):\n",
        "  target = 99999\n",
        "  for d in data_list:\n",
        "    if d < target: \n",
        "      target = d\n",
        "  return target\n",
        "\n",
        "def find_max(data_list):\n",
        "  target = -99999\n",
        "  for d in data_list:\n",
        "    if d > target: \n",
        "      target = d\n",
        "  return target\n",
        "\n",
        "def find_max_or_min(data_list, target):\n",
        "  sorted_data = sorted(data_list)\n",
        "  if target == 'max': \n",
        "    return sorted_data[-1]\n",
        "  else:\n",
        "    return sorted_data[0]\n",
        "\n",
        "# Testing\n",
        "data = [1,2,3,4,5,6,7,8,9,10]\n",
        "min_value = find_min(data)\n",
        "print(min_value)\n",
        "\n",
        "max_value = find_max(data)\n",
        "print(max_value)"
      ],
      "execution_count": null,
      "outputs": [
        {
          "output_type": "stream",
          "text": [
            "1\n",
            "10\n"
          ],
          "name": "stdout"
        }
      ]
    },
    {
      "cell_type": "markdown",
      "metadata": {
        "id": "g0oodny1nEFS"
      },
      "source": [
        "#Find the 25th percentile\n",
        "\n",
        "####pseudo code\n",
        "```\n",
        "sort the data in ascending order\n",
        "target(%) * the length of data --> A\n",
        "round A to integer --> B\n",
        "get the data list at B index\n",
        "```\n",
        "\n",
        "####weakness:\n",
        "```\n",
        "  The function is not flexible enough\n",
        "```\n",
        "\n",
        "####improvement:\n",
        "```\n",
        "  Add a parameter to define the target\n",
        "```\n"
      ]
    },
    {
      "cell_type": "code",
      "metadata": {
        "colab": {
          "base_uri": "https://localhost:8080/"
        },
        "id": "lGf3LsqInJex",
        "outputId": "b393006f-f452-4f02-9533-e1abd30139f9"
      },
      "source": [
        "\n",
        "def percentile_25th(data_list):  \n",
        "  sorted_list = sorted(data_list)\n",
        "  r = 25 / 100 * len(sorted_list)\n",
        "  index = round(r)\n",
        "  return data_list[index]\n",
        "\n",
        "# Testing\n",
        "data = [1,2,3,4,5,6,7,8,9,10]\n",
        "print(percentile_25th(data))"
      ],
      "execution_count": null,
      "outputs": [
        {
          "output_type": "stream",
          "text": [
            "3\n"
          ],
          "name": "stdout"
        }
      ]
    },
    {
      "cell_type": "markdown",
      "metadata": {
        "id": "685_KSrdspD4"
      },
      "source": [
        "#Find the 50th percentile"
      ]
    },
    {
      "cell_type": "code",
      "metadata": {
        "colab": {
          "base_uri": "https://localhost:8080/"
        },
        "id": "Lyvqu_AwspcC",
        "outputId": "207edb76-1e14-4dcc-b1b1-de58619aeff7"
      },
      "source": [
        "def percentile_50th(data_list):  \n",
        "  sorted_list = sorted(data_list)\n",
        "  r = 50 / 100 * len(sorted_list)\n",
        "  index = round(r)\n",
        "  return data_list[index]\n",
        "\n",
        "# Testing\n",
        "data = [1,2,3,4,5,6,7,8,9,10]\n",
        "print(percentile_50th(data))"
      ],
      "execution_count": null,
      "outputs": [
        {
          "output_type": "execute_result",
          "data": {
            "text/plain": [
              "6"
            ]
          },
          "metadata": {
            "tags": []
          },
          "execution_count": 42
        }
      ]
    },
    {
      "cell_type": "markdown",
      "metadata": {
        "id": "nK5cyQ2YspuH"
      },
      "source": [
        "#Find the 75th percentile"
      ]
    },
    {
      "cell_type": "code",
      "metadata": {
        "colab": {
          "base_uri": "https://localhost:8080/"
        },
        "id": "oKkS3LBFsqKc",
        "outputId": "423370fa-d180-42fd-aec8-c9abcfe1f009"
      },
      "source": [
        "def percentile_75th(data_list):  \n",
        "  sorted_list = sorted(data_list)\n",
        "  r = 75 / 100 * len(sorted_list)\n",
        "  index = round(r)\n",
        "  return data_list[index]\n",
        "\n",
        "# Testing\n",
        "data = [1,2,3,4,5,6,7,8,9,10]\n",
        "print(percentile_75th(data))\n",
        "\n",
        "\n",
        "# Improvement\n",
        "def percentile_nth(data_list, nth):  \n",
        "  sorted_list = sorted(data_list)\n",
        "  r = nth / 100 * len(sorted_list)\n",
        "  index = round(r)\n",
        "  return data_list[index]\n",
        "\n",
        "# Testing\n",
        "data = [1,2,3,4,5,6,7,8,9,10]\n",
        "print(percentile_nth(data, 75))"
      ],
      "execution_count": null,
      "outputs": [
        {
          "output_type": "stream",
          "text": [
            "9\n",
            "9\n"
          ],
          "name": "stdout"
        }
      ]
    },
    {
      "cell_type": "markdown",
      "metadata": {
        "id": "h_A70ihgtOGJ"
      },
      "source": [
        "#Print the set of summary statictics in a tabular form."
      ]
    },
    {
      "cell_type": "code",
      "metadata": {
        "colab": {
          "base_uri": "https://localhost:8080/"
        },
        "id": "q2csagXyuTin",
        "outputId": "ad4a09c9-15af-49c9-f2c1-7bfa0c7b50ae"
      },
      "source": [
        "def summary(data_list):\n",
        "  print(\"count\\t\", len(data_list))\n",
        "  print(\"mean\\t\", arithmetic_mean_improve(data_list))\n",
        "  print(\"std\\t\", standard_deviation_improve(data_list))\n",
        "  print(\"min\\t\", find_max_or_min(data_list, 'min'))\n",
        "  print(\"25%\\t\", percentile_nth(data_list, 25))\n",
        "  print(\"50%\\t\", percentile_nth(data_list, 50))\n",
        "  print(\"75%\\t\", percentile_nth(data_list, 75))\n",
        "  print(\"max\\t\", find_max_or_min(data_list, 'max'))\n",
        "  \n",
        "# Testing\n",
        "data = [1,2,3,4,5,6,7,8,9,10]\n",
        "summary(data)"
      ],
      "execution_count": null,
      "outputs": [
        {
          "output_type": "stream",
          "text": [
            "count\t 10\n",
            "mean\t 5.5\n",
            "std\t 2.8722813232690143\n",
            "min\t 1\n",
            "25%\t 3\n",
            "50%\t 6\n",
            "75%\t 9\n",
            "max\t 10\n"
          ],
          "name": "stdout"
        }
      ]
    },
    {
      "cell_type": "markdown",
      "metadata": {
        "id": "mrxTtGBNu-8n"
      },
      "source": [
        "#Read data from a file into memory \n",
        "\n",
        "####weakness:\n",
        "```\n",
        "  The function is not flexible enough\n",
        "```\n",
        "\n",
        "####improvement:\n",
        "```\n",
        "  Define a function for getting data from a file\n",
        "```\n"
      ]
    },
    {
      "cell_type": "code",
      "metadata": {
        "colab": {
          "base_uri": "https://localhost:8080/",
          "height": 249
        },
        "id": "WWoOmVYPvCK8",
        "outputId": "d31f006c-b318-4bcf-e7e1-4f6dbc6eaf27"
      },
      "source": [
        "from google.colab import drive\n",
        "drive.mount('/content/drive')\n",
        "\n",
        "# define a list data structure\n",
        "data_list = []\n",
        "# define the file path\n",
        "data_path = '/content/drive/My Drive/Colab Notebooks/Assignments/assignment1/task1.dat'\n",
        "# read all lines in the file and store to the data_list\n",
        "with open(data_path, \"r\") as task1_data:\n",
        "    data_list = task1_data.readlines()\n",
        "\n",
        "print(data_list)\n",
        "\n",
        "# Improvement\n",
        "def get_data_from_file(data_path):\n",
        "  # define a list data structure\n",
        "  data_list = []\n",
        "  # read all lines in the file and store to the data_list\n",
        "  with open(data_path, \"r\") as task1_data:\n",
        "      data_list = task1_data.readlines()\n",
        "  return data_list"
      ],
      "execution_count": null,
      "outputs": [
        {
          "output_type": "error",
          "ename": "FileNotFoundError",
          "evalue": "ignored",
          "traceback": [
            "\u001b[0;31m---------------------------------------------------------------------------\u001b[0m",
            "\u001b[0;31mFileNotFoundError\u001b[0m                         Traceback (most recent call last)",
            "\u001b[0;32m<ipython-input-9-840ae3e3f319>\u001b[0m in \u001b[0;36m<module>\u001b[0;34m()\u001b[0m\n\u001b[1;32m      5\u001b[0m \u001b[0mdata_path\u001b[0m \u001b[0;34m=\u001b[0m \u001b[0;34m'/content/drive/My Drive/Colab Notebooks/Assignments/assignment2/task1.dat'\u001b[0m\u001b[0;34m\u001b[0m\u001b[0;34m\u001b[0m\u001b[0m\n\u001b[1;32m      6\u001b[0m \u001b[0;31m# read all lines in the file and store to the data_list\u001b[0m\u001b[0;34m\u001b[0m\u001b[0;34m\u001b[0m\u001b[0;34m\u001b[0m\u001b[0m\n\u001b[0;32m----> 7\u001b[0;31m \u001b[0;32mwith\u001b[0m \u001b[0mopen\u001b[0m\u001b[0;34m(\u001b[0m\u001b[0mdata_path\u001b[0m\u001b[0;34m,\u001b[0m \u001b[0;34m\"r\"\u001b[0m\u001b[0;34m)\u001b[0m \u001b[0;32mas\u001b[0m \u001b[0mtask1_data\u001b[0m\u001b[0;34m:\u001b[0m\u001b[0;34m\u001b[0m\u001b[0;34m\u001b[0m\u001b[0m\n\u001b[0m\u001b[1;32m      8\u001b[0m     \u001b[0mdata_list\u001b[0m \u001b[0;34m=\u001b[0m \u001b[0mtask1_data\u001b[0m\u001b[0;34m.\u001b[0m\u001b[0mreadlines\u001b[0m\u001b[0;34m(\u001b[0m\u001b[0;34m)\u001b[0m\u001b[0;34m\u001b[0m\u001b[0;34m\u001b[0m\u001b[0m\n\u001b[1;32m      9\u001b[0m \u001b[0;34m\u001b[0m\u001b[0m\n",
            "\u001b[0;31mFileNotFoundError\u001b[0m: [Errno 2] No such file or directory: '/content/drive/My Drive/Colab Notebooks/Assignments/assignment2/task1.dat'"
          ]
        }
      ]
    },
    {
      "cell_type": "markdown",
      "metadata": {
        "id": "RewYECFuw6GS"
      },
      "source": [
        "Design and build a data structure to store CSV data in memory.\n",
        "Create and demonstrate a function to read CSV data from a file into memory."
      ]
    },
    {
      "cell_type": "code",
      "metadata": {
        "id": "dovKinpdxDYV"
      },
      "source": [
        "def get_data_from_csv_file(data_path):\n",
        "    # define the final data list\n",
        "    result = []\n",
        "    # read the csv file\n",
        "    with open(data_path, 'r') as f:\n",
        "        # get all the lines\n",
        "        lines = f.readlines()\n",
        "        # the first line is the header\n",
        "        # get the header for the key of the dictionary\n",
        "        header = lines[0].split(',')\n",
        "        # read the rest of the file (skip row 1)\n",
        "        for line in lines[1:]:\n",
        "            # split the row by comma\n",
        "            columns = line.split(',')\n",
        "            # define the dictionary to store the data\n",
        "            data = {}\n",
        "            # read the column 1 by 1\n",
        "            for i in range(len(columns)):\n",
        "                # get the header for the key\n",
        "                key = header[i]\n",
        "                # get the value\n",
        "                val = columns[i]\n",
        "                # store data into the dictionary\n",
        "                data[key] = val\n",
        "            # append data to list\n",
        "            result.append(data)\n",
        "    # return result\n",
        "    return result\n"
      ],
      "execution_count": null,
      "outputs": []
    },
    {
      "cell_type": "markdown",
      "metadata": {
        "id": "VKapv9Sh1nav"
      },
      "source": [
        "Create and demonstrate a generic statistical summary function."
      ]
    },
    {
      "cell_type": "code",
      "metadata": {
        "id": "P2UFJ7IH1rKt"
      },
      "source": [
        "from google.colab import drive\n",
        "drive.mount('/content/drive')\n",
        "\n",
        "# Re-use the function summary, and get_data_from_csv_file.\n",
        "\n",
        "def calculate_statictics_from_csv(data_path, header):\n",
        "  row_dicts = get_data_from_csv_file(data_path)\n",
        "  data_list = []\n",
        "  for row in row_dicts:\n",
        "    data_list.append(row[header])\n",
        "  summary(data_list)\n",
        "\n",
        "# Testing\n",
        "data_path = '/content/drive/My Drive/Colab Notebooks/Assignments/assignment1/task1.csv'\n",
        "calculate_statictics_from_csv(data_path, 'SkinThickness')\n"
      ],
      "execution_count": null,
      "outputs": []
    }
  ]
}